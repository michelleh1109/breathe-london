{
 "cells": [
  {
   "cell_type": "code",
   "execution_count": null,
   "metadata": {},
   "outputs": [],
   "source": [
    "# Import relevant libraries\n",
    "import numpy as np\n",
    "import pandas as pd\n",
    "import matplotlib.pyplot as plt\n",
    "import requests\n",
    "import urllib.request, json"
   ]
  },
  {
   "attachments": {},
   "cell_type": "markdown",
   "metadata": {},
   "source": [
    "## /ListSensors"
   ]
  },
  {
   "cell_type": "code",
   "execution_count": null,
   "metadata": {},
   "outputs": [],
   "source": [
    "with open('ListSensor.txt', encoding=\"utf8\") as f:\n",
    "    contents = f.read()"
   ]
  },
  {
   "cell_type": "code",
   "execution_count": null,
   "metadata": {},
   "outputs": [],
   "source": [
    "vecname = [\"SiteCode\",\"SiteName\",\"Latitude\",\"Longitude\",\"LocalAuthorityID\",\"SiteClassification\",\n",
    "           \"HeadHeight\",\"ToRoad\",\"SiteLocationType\",\"Indoor\",\"SitePhotoURL\",\"SiteDescription\",\n",
    "           \"SleepTime\",\"BatteryStatus\",\"BatteryPercentage\",\"SignalStrength\",\"SensorsHealthStatus\",\n",
    "           \"OverallStatus\",\"DeviceCode\",\"StartDate\",\"EndDate\",\"LastCommunication\",\"InputPowerError\", \n",
    "           \"InputPowerCurrent\", \"InputPowerVoltage\",\"InputBatteryError\",\"InputBatteryVoltage\",\n",
    "           \"ChargingStatus\",\"SignalQuality\",\"BatterySleepMultiplier\",\"WeatherError\",\n",
    "           \"PMError\",\"NO2Error\",\n",
    "           \"LatestINO2Value\",\"LatestINO2Index\",\"LatestINO2IndexSource\",\n",
    "           \"LatestIPM10Value\",\"LatestIPM10NUMValue\",\"LatestIPM1Value\",\"LatestIPM1NUMValue\",\n",
    "           \"LatestIPM25Value\",\"LatestIPM25Index\",\"LatestIPM25IndexSource\",\"LatestIPM25NUMValue\",\n",
    "           \"LatestRELHUMValue\",\"LatestTEMPERATValue\",\"SiteActive\",\"SiteGroup\",\"PowerTag\",\"Enabled\",\"OtherTags\",\n",
    "           \"OrganisationName\",\"SponsorName\",\"HourlyBulletinEnd\"]\n",
    "indstart = contents.find(\"SiteCode\")\n",
    "nsite = 346\n",
    "vecstart = np.zeros([nsite])*np.nan\n",
    "vecstart[0] = indstart\n",
    "for i in np.arange(1,nsite):\n",
    "    vecstart[i] = int(contents.find(\"SiteCode\",int(vecstart[i-1]+8),-1))\n"
   ]
  },
  {
   "cell_type": "code",
   "execution_count": null,
   "metadata": {},
   "outputs": [],
   "source": [
    "dfdata = pd.DataFrame(columns=vecname)\n",
    "for i in np.arange(0,nsite):\n",
    "    print(i)\n",
    "    datatemp = np.array([])\n",
    "    istart = int(vecstart[i]-1)\n",
    "    if i == nsite-1:\n",
    "        iend = len(contents)-3\n",
    "    else:\n",
    "        iend = int(vecstart[i+1]-4)\n",
    "    strtemp = contents[istart:iend]\n",
    "    for j in np.arange(0,len(vecname)-1):\n",
    "        nametemp1 = vecname[j]\n",
    "        nametemp2 = vecname[j+1]    \n",
    "        lentemp1 = len(nametemp1)\n",
    "        ivaluetemp1 = strtemp.find(nametemp1)+lentemp1+2\n",
    "        if strtemp[ivaluetemp1] == '\\\"':\n",
    "            ivaluetemp1 = strtemp.find(nametemp1)+lentemp1+3\n",
    "            ivaluetemp2 = strtemp.find(nametemp2)-3\n",
    "        else:\n",
    "            ivaluetemp1 = strtemp.find(nametemp1)+lentemp1+2\n",
    "            ivaluetemp2 = strtemp.find(nametemp2)-2\n",
    "        valuetemp = strtemp[ivaluetemp1:ivaluetemp2]\n",
    "        datatemp = np.append(datatemp,valuetemp)\n",
    "    j = len(vecname)-1\n",
    "    nametemp1 = vecname[j]\n",
    "    lentemp1 = len(nametemp1)\n",
    "    ivaluetemp1 = strtemp.find(nametemp1)+lentemp1+3\n",
    "    ivaluetemp2 = len(strtemp)-1\n",
    "    valuetemp = strtemp[ivaluetemp1:ivaluetemp2]\n",
    "    datatemp = np.append(datatemp,valuetemp)\n",
    "    \n",
    "    \n",
    "    dfdata.loc[i] = datatemp"
   ]
  },
  {
   "cell_type": "code",
   "execution_count": null,
   "metadata": {},
   "outputs": [],
   "source": [
    "dfdata.to_csv('ListSensors.csv')"
   ]
  },
  {
   "cell_type": "code",
   "execution_count": null,
   "metadata": {},
   "outputs": [],
   "source": [
    "dfdata = pd.read_csv(\"ListSensors.csv\")"
   ]
  },
  {
   "attachments": {},
   "cell_type": "markdown",
   "metadata": {},
   "source": [
    "## /getClarityData"
   ]
  },
  {
   "attachments": {},
   "cell_type": "markdown",
   "metadata": {},
   "source": [
    "### update time parameter"
   ]
  },
  {
   "cell_type": "code",
   "execution_count": null,
   "metadata": {},
   "outputs": [],
   "source": [
    "for i in np.arange(0,1):\n",
    "    sitecode = dfdata['SiteCode'][i]\n",
    "    startdate = dfdata['StartDate'][i],\n",
    "    enddate = dfdata['LastCommunication'][i]"
   ]
  },
  {
   "cell_type": "code",
   "execution_count": null,
   "metadata": {},
   "outputs": [],
   "source": [
    "totd = 410 #update number of days\n",
    "toth = totd*24\n",
    "dti = pd.date_range(\"2022-01-01\", periods=toth, freq=\"H\")"
   ]
  },
  {
   "cell_type": "code",
   "execution_count": null,
   "metadata": {},
   "outputs": [],
   "source": [
    "startdate = ('2022-01-01T00')"
   ]
  },
  {
   "cell_type": "code",
   "execution_count": null,
   "metadata": {
    "scrolled": true
   },
   "outputs": [],
   "source": [
    "dfmattime = pd.DataFrame(columns=['Weekday', 'Day', 'Month','Year','Hour'])\n",
    "for i in np.arange(0,toth):\n",
    "    print(i)\n",
    "    titemp = str(dti[i])\n",
    "        \n",
    "    if dti[i].isoweekday()==1:\n",
    "        wdtemp = 'Mon'\n",
    "    elif dti[i].isoweekday()==2:\n",
    "        wdtemp = 'Tue'\n",
    "    elif dti[i].isoweekday()==3:\n",
    "        wdtemp = 'Wed'\n",
    "    elif dti[i].isoweekday()==4:\n",
    "        wdtemp = 'Thu'\n",
    "    elif dti[i].isoweekday()==5:\n",
    "        wdtemp = 'Fri'\n",
    "    elif dti[i].isoweekday()==6:\n",
    "        wdtemp = 'Sat'\n",
    "    elif dti[i].isoweekday()==7:\n",
    "        wdtemp = 'Sun'\n",
    "     \n",
    "    mtemp = int(titemp[5:7])\n",
    "    if mtemp == 1:\n",
    "        mstrtemp = 'Jan'\n",
    "    elif mtemp == 2:\n",
    "        mstrtemp = 'Feb'\n",
    "    elif mtemp == 3:\n",
    "        mstrtemp = 'Mar'\n",
    "    elif mtemp == 4:\n",
    "        mstrtemp = 'Apr'\n",
    "    elif mtemp == 5:\n",
    "        mstrtemp = 'May'\n",
    "    elif mtemp == 6:\n",
    "        mstrtemp = 'Jun'\n",
    "    elif mtemp == 7:\n",
    "        mstrtemp = 'Jul'\n",
    "    elif mtemp == 8:\n",
    "        mstrtemp = 'Aug'\n",
    "    elif mtemp == 9:\n",
    "        mstrtemp = 'Sep'\n",
    "    elif mtemp == 10:\n",
    "        mstrtemp = 'Oct'\n",
    "    elif mtemp == 11:\n",
    "        mstrtemp = 'Nov'\n",
    "    elif mtemp == 12:\n",
    "        mstrtemp = 'Dec'\n",
    "        \n",
    "    datatemp = np.array([wdtemp,int(titemp[8:10]),mstrtemp,int(titemp[0:4]),titemp[11:19]]) \n",
    "    \n",
    "    dfmattime.loc[i] = datatemp\n"
   ]
  },
  {
   "attachments": {},
   "cell_type": "markdown",
   "metadata": {},
   "source": [
    "### get raw data"
   ]
  },
  {
   "cell_type": "code",
   "execution_count": null,
   "metadata": {
    "scrolled": true
   },
   "outputs": [],
   "source": [
    "matpmdata = pd.DataFrame(columns=list(dfdata['SiteCode']), index=dti)\n",
    "for i in np.arange(29, len(dfdata)):\n",
    "    sitecode = dfdata['SiteCode'][i]    \n",
    "    #startdate = dfdata['StartDate'][i]\n",
    "    enddate = dfdata['LastCommunication'][i]\n",
    "    if enddate==\"null\" or pd.isnull(enddate):\n",
    "        enddate = dfdata['EndDate'][i]\n",
    "\n",
    "    y1 = startdate[0:4]\n",
    "    m1 = str(int(startdate[5:7]))\n",
    "    if m1 == \"1\":\n",
    "        m1 = 'Jan'\n",
    "    elif m1 == \"2\":\n",
    "        m1 = 'Feb'\n",
    "    elif m1 == \"3\":\n",
    "        m1 = 'Mar'\n",
    "    elif m1 == \"4\":\n",
    "        m1 = 'Apr'\n",
    "    elif m1 == \"5\":\n",
    "        m1 = 'May'\n",
    "    elif m1 == \"6\":\n",
    "        m1 = 'Jun'\n",
    "    elif m1 == \"7\":\n",
    "        m1 = 'Jul'\n",
    "    elif m1 == \"8\":\n",
    "        m1 = 'Aug'\n",
    "    elif m1 == \"9\":\n",
    "        m1 = 'Sep'\n",
    "    elif m1 == \"10\":\n",
    "        m1 = 'Oct'\n",
    "    elif m1 == \"11\":\n",
    "        m1 = 'Nov'\n",
    "    elif m1 == \"12\":\n",
    "        m1 = 'Dec'\n",
    "    d1 = str(int(startdate[8:10]))\n",
    "    h1 = startdate[11:13]+':00:00'\n",
    "    \n",
    "    y2 = enddate[0:4]\n",
    "    m2 = str(int(enddate[5:7]))\n",
    "    if m2 == \"1\":\n",
    "        m2 = 'Jan'\n",
    "    elif m2 == \"2\":\n",
    "        m2 = 'Feb'\n",
    "    elif m2 == \"3\":\n",
    "        m2 = 'Mar'\n",
    "    elif m2 == \"4\":\n",
    "        m2 = 'Apr'\n",
    "    elif m2 == \"5\":\n",
    "        m2 = 'May'\n",
    "    elif m2 == \"6\":\n",
    "        m2 = 'Jun'\n",
    "    elif m2 == \"7\":\n",
    "        m2 = 'Jul'\n",
    "    elif m2 == \"8\":\n",
    "        m2 = 'Aug'\n",
    "    elif m2 == \"9\":\n",
    "        m2 = 'Sep'\n",
    "    elif m2 == \"10\":\n",
    "        m2 = 'Oct'\n",
    "    elif m2 == \"11\":\n",
    "        m2 = 'Nov'\n",
    "    elif m2 == \"12\":\n",
    "        m2 = 'Dec'\n",
    "    d2 = str(int(enddate[8:10]))\n",
    "    h2 = enddate[11:13]+':00:00'\n",
    "    \n",
    "    if y2 >= y1:\n",
    "        ind1 = dfmattime[(dfmattime['Year']==y1) & (dfmattime['Month']==m1) & (dfmattime['Day']==d1) & (dfmattime['Hour']==h1)].index[0]\n",
    "        ind2 = dfmattime[(dfmattime['Year']==y2) & (dfmattime['Month']==m2) & (dfmattime['Day']==d2) & (dfmattime['Hour']==h2)].index[0]\n",
    "\n",
    "        url = (\"https://api.breathelondon.org/api/getClarityData/\" + sitecode + \"/INO2/\" \n",
    "               + dfmattime['Weekday'][ind1] + \"%20\" + dfmattime['Month'][ind1] + \"%20\" \n",
    "               + dfmattime['Year'][ind1] + \"%20\" + dfmattime['Hour'][ind1] \n",
    "               + \"%20GMT/\" \n",
    "               + dfmattime['Weekday'][ind2] + \"%20\" + dfmattime['Month'][ind2] + \"%20\" \n",
    "               + dfmattime['Year'][ind2] + \"%20\" + dfmattime['Hour'][ind2]\n",
    "               + \"%20GMT/Hourly?key=fe476fea-e87a-11eb-9a03-0242ac130003\") # add own api key\n",
    "\n",
    "        with urllib.request.urlopen(url) as url:\n",
    "            data = json.loads(url.read().decode())\n",
    "            if len(data)>4:\n",
    "\n",
    "                for j in np.arange(0,len(data)):\n",
    "                    print(f'{i}, {j}/{len(data)}')\n",
    "\n",
    "                    datetemp = data[j]['DateTime']\n",
    "\n",
    "\n",
    "                    y = datetemp[0:4]\n",
    "                    m = str(int(datetemp[5:7]))\n",
    "                    if m == \"1\":\n",
    "                        m = 'Jan'\n",
    "                    elif m == \"2\":\n",
    "                        m = 'Feb'\n",
    "                    elif m == \"3\":\n",
    "                        m = 'Mar'\n",
    "                    elif m == \"4\":\n",
    "                        m = 'Apr'\n",
    "                    elif m == \"5\":\n",
    "                        m = 'May'\n",
    "                    elif m == \"6\":\n",
    "                        m = 'Jun'\n",
    "                    elif m == \"7\":\n",
    "                        m = 'Jul'\n",
    "                    elif m == \"8\":\n",
    "                        m = 'Aug'\n",
    "                    elif m == \"9\":\n",
    "                        m = 'Sep'\n",
    "                    elif m == \"10\":\n",
    "                        m = 'Oct'\n",
    "                    elif m == \"11\":\n",
    "                        m = 'Nov'\n",
    "                    elif m == \"12\":\n",
    "                        m = 'Dec'\n",
    "                    d = str(int(datetemp[8:10]))\n",
    "                    h = datetemp[11:13]+':00:00'\n",
    "                    indr = dfmattime[(dfmattime['Year']==y) & (dfmattime['Month']==m) & (dfmattime['Day']==d) & (dfmattime['Hour']==h)].index[0]\n",
    "                    indc = list(dfdata['SiteCode']).index(sitecode)\n",
    "                    matpmdata.iloc[indr,indc] = data[j]['ScaledValue']\n"
   ]
  },
  {
   "cell_type": "code",
   "execution_count": null,
   "metadata": {},
   "outputs": [],
   "source": [
    "matpmdata.to_csv('no2data_full.csv')"
   ]
  },
  {
   "cell_type": "code",
   "execution_count": null,
   "metadata": {},
   "outputs": [],
   "source": []
  }
 ],
 "metadata": {
  "kernelspec": {
   "display_name": "Python 3 (ipykernel)",
   "language": "python",
   "name": "python3"
  },
  "language_info": {
   "codemirror_mode": {
    "name": "ipython",
    "version": 3
   },
   "file_extension": ".py",
   "mimetype": "text/x-python",
   "name": "python",
   "nbconvert_exporter": "python",
   "pygments_lexer": "ipython3",
   "version": "3.9.13"
  }
 },
 "nbformat": 4,
 "nbformat_minor": 2
}
